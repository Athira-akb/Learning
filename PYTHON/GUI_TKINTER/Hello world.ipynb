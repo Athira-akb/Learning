{
 "cells": [
  {
   "cell_type": "code",
   "execution_count": 7,
   "metadata": {},
   "outputs": [
    {
     "name": "stdout",
     "output_type": "stream",
     "text": [
      "Requirement already satisfied: pillow in /home/athira/anaconda3/lib/python3.7/site-packages (7.0.0)\n",
      "Note: you may need to restart the kernel to use updated packages.\n"
     ]
    }
   ],
   "source": [
    "pip install pillow"
   ]
  },
  {
   "cell_type": "markdown",
   "metadata": {},
   "source": [
    "# Label and pack"
   ]
  },
  {
   "cell_type": "code",
   "execution_count": 5,
   "metadata": {},
   "outputs": [],
   "source": [
    "from tkinter import *\n",
    "# Kinter instance and loop is required. The loop detects changes\n",
    "\n",
    "#Instance\n",
    "root = Tk()\n",
    "\n",
    "root.title(\"Hello world\")\n",
    "root.geometry(\"400x400\")\n",
    "\n",
    "#Label(to enter text) and pack to display it on the window\n",
    "my_label = Label(root, text=\"Hello world\", fg=\"blue\", bg=\"black\", font=(\"Helvtika\",32), width=10)\n",
    "my_label.pack()\n",
    "#relief = groove,ridge,raised\n",
    "#state = disabled,normal\n",
    "#pady, padx\n",
    "my_label1 = Label(root, text=\"Hello world\",relief=\"raised\",state=\"disabled\", pady=50)\n",
    "my_label1.pack()\n",
    "\n",
    "\n",
    "\n",
    "#Main loop running on loop window(usially at the end)\n",
    "root.mainloop()"
   ]
  },
  {
   "cell_type": "markdown",
   "metadata": {},
   "source": [
    "# Grid"
   ]
  },
  {
   "cell_type": "code",
   "execution_count": 8,
   "metadata": {},
   "outputs": [],
   "source": [
    "root1 = Tk()\n",
    "\n",
    "root1.title(\"Hello world\")\n",
    "root1.geometry(\"400x400\")\n",
    "\n",
    "#Label(to enter text) and grid to display it on the window\n",
    "my_label = Label(root1, text=\"Hello world\", fg=\"blue\", bg=\"black\", font=(\"Helvtika\",32))\n",
    "#row and column will take the size of the thing untill specified\n",
    "#columnspan, rowspan\n",
    "my_label.grid(row=0,column=0, columnspan=2)\n",
    "\n",
    "#sticky = E,W,N,S\n",
    "my_label1 = Label(root1, text=\"Two\",relief=\"raised\",state=\"disabled\")\n",
    "my_label1.grid(row=1,column=0, sticky=W)\n",
    "\n",
    "my_label2 = Label(root1, text=\"Hi\")\n",
    "my_label2.grid(row=1, column=1)\n",
    "\n",
    "\n",
    "\n",
    "#Main loop running on loop window(usially at the end)\n",
    "root1.mainloop()"
   ]
  },
  {
   "cell_type": "markdown",
   "metadata": {},
   "source": [
    "# Button & Entry widget box"
   ]
  },
  {
   "cell_type": "code",
   "execution_count": 28,
   "metadata": {},
   "outputs": [],
   "source": [
    "root2 = Tk()\n",
    "\n",
    "root2.title(\"Hello world\")\n",
    "root2.geometry(\"400x400\")\n",
    "\n",
    "#Create clicked function\n",
    "def clicked():\n",
    "    Label(root2, text=\"Hello \" + ent.get()).pack()\n",
    "\n",
    "#Label\n",
    "my_label = Label(root2, text=\"Enter your name\", font=(\"Helvtika\",32))\n",
    "my_label.pack()\n",
    "\n",
    "#Entry widget box\n",
    "ent = Entry(root2, width=50, font=(\"Helvtika\",32))\n",
    "ent.pack(pady=20)\n",
    "\n",
    "#Button\n",
    "#command calls that function\n",
    "my_button = Button(root2, text=\"Click Me\", command=clicked)\n",
    "my_button.pack(pady=20)\n",
    "#To pass inside the function\n",
    "'''my_button = Button(root2, text=\"Click Me\", command=lambda: clicked(things))\n",
    "my_button.pack(pady=20)'''\n",
    "\n",
    "\n",
    "#Main loop\n",
    "root2.mainloop()"
   ]
  },
  {
   "cell_type": "markdown",
   "metadata": {},
   "source": [
    "# Images & Icons"
   ]
  },
  {
   "cell_type": "code",
   "execution_count": 21,
   "metadata": {},
   "outputs": [],
   "source": [
    "from PIL import ImageTk, Image\n",
    "root3 = Tk()\n",
    "\n",
    "#Icon\n",
    "#root.iconbitmap('pumpkin.ico')\n",
    "\n",
    "def clicked():\n",
    "    Label(root3, text=\"You have clicked\").pack()\n",
    "\n",
    "data = Label(root3, text=\"Welcome aboard!!\")\n",
    "data.pack()\n",
    "\n",
    "#Install pillow for images\n",
    "#Image\n",
    "my_image = ImageTk.PhotoImage(Image.open(\"panda.jpeg\"))\n",
    "my_label = Label(image=my_image)\n",
    "my_label.pack()\n",
    "\n",
    "Button(root3, text=\"Click me\", command=clicked).pack()\n",
    "\n",
    "\n",
    "root3.mainloop()"
   ]
  },
  {
   "cell_type": "markdown",
   "metadata": {},
   "source": [
    "# Hide & Show"
   ]
  },
  {
   "cell_type": "code",
   "execution_count": 31,
   "metadata": {},
   "outputs": [],
   "source": [
    "root4 = Tk()\n",
    "\n",
    "def clicked():\n",
    "    global my_label\n",
    "    my_label = Label(root4, text=\"You have been clicked\")\n",
    "    my_label.pack()\n",
    "\n",
    "#Hide function\n",
    "def hide():\n",
    "    my_label.pack_forget()\n",
    "    #my_label.grid_forget()\n",
    "    #if we use my_label.destroy() that function will be destroyed and it cannot be shown\n",
    "    #my_label.destroy()\n",
    "\n",
    "#Show function\n",
    "def show():\n",
    "    my_label.pack()\n",
    "\n",
    "Label(root4, text = \"Welcome\").pack()\n",
    "Label(root4, text=\"Please enter your name :\").pack()\n",
    "Entry(root4, width=20).pack()\n",
    "\n",
    "my_button = Button(root4, text=\"Click Me\", command=clicked)\n",
    "my_button.pack()\n",
    "\n",
    "hide_button = Button(root4, text=\"Hide\", command=hide)\n",
    "hide_button.pack()\n",
    "\n",
    "show_button = Button(root4, text=\"Show\", command=show)\n",
    "show_button.pack()\n",
    "\n",
    "root4.mainloop()"
   ]
  },
  {
   "cell_type": "code",
   "execution_count": null,
   "metadata": {},
   "outputs": [],
   "source": []
  }
 ],
 "metadata": {
  "kernelspec": {
   "display_name": "Python 3",
   "language": "python",
   "name": "python3"
  },
  "language_info": {
   "codemirror_mode": {
    "name": "ipython",
    "version": 3
   },
   "file_extension": ".py",
   "mimetype": "text/x-python",
   "name": "python",
   "nbconvert_exporter": "python",
   "pygments_lexer": "ipython3",
   "version": "3.7.6"
  }
 },
 "nbformat": 4,
 "nbformat_minor": 4
}
